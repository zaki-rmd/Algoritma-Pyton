{
  "nbformat": 4,
  "nbformat_minor": 0,
  "metadata": {
    "colab": {
      "provenance": [],
      "authorship_tag": "ABX9TyOsIilRUpSGFnjr2a5/s3ii",
      "include_colab_link": true
    },
    "kernelspec": {
      "name": "python3",
      "display_name": "Python 3"
    },
    "language_info": {
      "name": "python"
    }
  },
  "cells": [
    {
      "cell_type": "markdown",
      "metadata": {
        "id": "view-in-github",
        "colab_type": "text"
      },
      "source": [
        "<a href=\"https://colab.research.google.com/github/zaki-rmd/Algoritma-Pyton/blob/main/latihan_soal.ipynb\" target=\"_parent\"><img src=\"https://colab.research.google.com/assets/colab-badge.svg\" alt=\"Open In Colab\"/></a>"
      ]
    },
    {
      "cell_type": "code",
      "source": [
        "#program nama\n",
        "nama =input(\"masukan nama anda: \")\n",
        "\n",
        "print(f\"Halo, {nama}! Selamat belajar python!\")"
      ],
      "metadata": {
        "colab": {
          "base_uri": "https://localhost:8080/"
        },
        "id": "yljE9pSlFOcs",
        "outputId": "f9e2fcf9-84dd-4c6d-d63f-e232f930abb4"
      },
      "execution_count": 17,
      "outputs": [
        {
          "output_type": "stream",
          "name": "stdout",
          "text": [
            "masukan nama anda: Zaki\n",
            "Halo, Zaki! Selamat belajar python!\n"
          ]
        }
      ]
    },
    {
      "cell_type": "code",
      "source": [
        "#program menghitung luas persegi panjang\n",
        "P=int(input(\"Panjang: \"))\n",
        "L=int(input(\"Lebar:\"))\n",
        "Luas= P * L\n",
        "print(\"Luas:\",Luas)"
      ],
      "metadata": {
        "colab": {
          "base_uri": "https://localhost:8080/"
        },
        "id": "K6NKCWYvGGF8",
        "outputId": "5343ede6-3034-4e25-e8db-facd530bc947"
      },
      "execution_count": 21,
      "outputs": [
        {
          "output_type": "stream",
          "name": "stdout",
          "text": [
            "Panjang: 5\n",
            "Lebar:3\n",
            "Luas: 15\n"
          ]
        }
      ]
    },
    {
      "cell_type": "code",
      "source": [
        "# program menentukan bilangan genap atau ganjil\n",
        "\n",
        "N = int(input())\n",
        "if N % 2 == 0:\n",
        "  print(N,\"adalah bilangan genap\")\n",
        "else:\n",
        "  print(N,\"adalah bilangan ganjil\")\n",
        "\n",
        ""
      ],
      "metadata": {
        "colab": {
          "base_uri": "https://localhost:8080/"
        },
        "id": "riCi5jHNIqA9",
        "outputId": "354b9f3b-baa6-4527-89a9-cd231a349bb5"
      },
      "execution_count": 37,
      "outputs": [
        {
          "output_type": "stream",
          "name": "stdout",
          "text": [
            "3\n",
            "3 adalah bilangan ganjil\n"
          ]
        }
      ]
    },
    {
      "cell_type": "code",
      "source": [
        "# program menampilkan deret bilangan\n",
        "N = int(input())\n",
        "for i in range(1,N+1):\n",
        "  print(i,end=\" \")"
      ],
      "metadata": {
        "colab": {
          "base_uri": "https://localhost:8080/"
        },
        "id": "whFwbV-2K36L",
        "outputId": "c000efa4-65c7-43c0-c53f-6567293da774"
      },
      "execution_count": 35,
      "outputs": [
        {
          "output_type": "stream",
          "name": "stdout",
          "text": [
            "20\n",
            "1 2 3 4 5 6 7 8 9 10 11 12 13 14 15 16 17 18 19 20 "
          ]
        }
      ]
    },
    {
      "cell_type": "code",
      "source": [
        "# program menghitung bilangan bulat diantara a dan b\n",
        "a= int(input(\"masukan bilangan a: \"))\n",
        "b= int(input(\"masukan bilangan b: \"))\n",
        "Jumlah = 0\n",
        "for i in range(a,b+1):\n",
        "  Jumlah += i\n",
        "print(f\"Jumlah antara bilangan {a} sampai {b} adalah {Jumlah}\")\n"
      ],
      "metadata": {
        "colab": {
          "base_uri": "https://localhost:8080/"
        },
        "id": "cKSkVKq9M6ft",
        "outputId": "c86d7757-f556-47fd-b94b-8eb6d6ec96eb"
      },
      "execution_count": 18,
      "outputs": [
        {
          "output_type": "stream",
          "name": "stdout",
          "text": [
            "masukan bilangan a: 3\n",
            "masukan bilangan b: 7\n",
            "Jumlah antara bilangan 3 sampai 7 adalah 25\n"
          ]
        }
      ]
    },
    {
      "cell_type": "code",
      "source": [
        "# program menghitung bilangan genap diantara a dan b\n",
        "a= int(input(\"masukan bilangan pertama: \"))\n",
        "b= int(input(\"masukan bilangan kedua: \"))\n",
        "print(f\"Bilangan genap rentang {a} sampai {b}\")\n",
        "for i in range(a,b+1):\n",
        "  if i % 2 == 0:\n",
        "    print((i),end=\" \")"
      ],
      "metadata": {
        "colab": {
          "base_uri": "https://localhost:8080/"
        },
        "id": "hXkSkrPEUB6c",
        "outputId": "104a3df9-7636-400d-f521-ca66307773e7"
      },
      "execution_count": 17,
      "outputs": [
        {
          "output_type": "stream",
          "name": "stdout",
          "text": [
            "masukan bilangan pertama: 3\n",
            "masukan bilangan kedua: 10\n",
            "Bilangan genap rentang 3 sampai 10\n",
            "4 6 8 10 "
          ]
        }
      ]
    },
    {
      "cell_type": "code",
      "source": [
        "#program mencetak nilai dari array dalam urutan terbalik\n",
        "A = [5, 2, 8, 1]\n",
        "array_terbalik = [0] * len(A)\n",
        "for i in range(len(A)):\n",
        "  array_terbalik [len(A)-1-i]=A[i]\n",
        "print(\"array asli:\",A)\n",
        "print(\"array terbalik:\", array_terbalik)"
      ],
      "metadata": {
        "colab": {
          "base_uri": "https://localhost:8080/"
        },
        "id": "0AnI_rXLZKih",
        "outputId": "09080d07-5a0b-4c1d-b0da-bdcf56c8b8b8"
      },
      "execution_count": 35,
      "outputs": [
        {
          "output_type": "stream",
          "name": "stdout",
          "text": [
            "array asli: [5, 2, 8, 1]\n",
            "array terbalik: [1, 8, 2, 5]\n"
          ]
        }
      ]
    },
    {
      "cell_type": "code",
      "source": [
        "# Program menentukan bilangan prima\n",
        "\n",
        "angka= int(input(\"masukan bilangan: \"))\n",
        "prima = True\n",
        "\n",
        "if angka < 2:\n",
        "  prima = false\n",
        "else:\n",
        "  for i in range(2, int(angka**0.5)+1):\n",
        "    if angka % i == 0:\n",
        "      prima = false\n",
        "      break\n",
        "if prima:\n",
        "    print(angka,\"adalah bilangan prima\")\n",
        "else:\n",
        "    print(angka,\"bukan bilangan prima\")"
      ],
      "metadata": {
        "colab": {
          "base_uri": "https://localhost:8080/"
        },
        "id": "3ShdxplhZO7J",
        "outputId": "807faa27-7de7-4b33-b84d-82a5c29f2e7f"
      },
      "execution_count": 33,
      "outputs": [
        {
          "output_type": "stream",
          "name": "stdout",
          "text": [
            "masukan bilangan: 13\n",
            "13 adalah bilangan prima\n"
          ]
        }
      ]
    }
  ]
}