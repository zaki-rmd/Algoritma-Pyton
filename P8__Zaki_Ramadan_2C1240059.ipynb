{
  "nbformat": 4,
  "nbformat_minor": 0,
  "metadata": {
    "colab": {
      "provenance": [],
      "include_colab_link": true
    },
    "kernelspec": {
      "name": "python3",
      "display_name": "Python 3"
    },
    "language_info": {
      "name": "python"
    }
  },
  "cells": [
    {
      "cell_type": "markdown",
      "metadata": {
        "id": "view-in-github",
        "colab_type": "text"
      },
      "source": [
        "<a href=\"https://colab.research.google.com/github/zaki-rmd/Algoritma-Pyton/blob/main/P8__Zaki_Ramadan_2C1240059.ipynb\" target=\"_parent\"><img src=\"https://colab.research.google.com/assets/colab-badge.svg\" alt=\"Open In Colab\"/></a>"
      ]
    },
    {
      "cell_type": "markdown",
      "source": [
        "**FUNDAMENTAL ARRAY**"
      ],
      "metadata": {
        "id": "wfgZxt5q_TzV"
      }
    },
    {
      "cell_type": "code",
      "execution_count": 13,
      "metadata": {
        "id": "9TB1ZwTr_DYz",
        "colab": {
          "base_uri": "https://localhost:8080/"
        },
        "outputId": "f33c292a-fc97-4064-d951-e89bbb816a0f"
      },
      "outputs": [
        {
          "output_type": "execute_result",
          "data": {
            "text/plain": [
              "[10, 20, 30, 40]"
            ]
          },
          "metadata": {},
          "execution_count": 13
        }
      ],
      "source": [
        "arr = [10, 20, 30, 40]\n",
        "arr"
      ]
    },
    {
      "cell_type": "code",
      "source": [
        "list_numbers = [1, 2, 3, 4, 5]\n",
        "list_numbers"
      ],
      "metadata": {
        "id": "Qye2YU0__OFZ",
        "colab": {
          "base_uri": "https://localhost:8080/"
        },
        "outputId": "d7f17182-9778-48ca-e4bd-d2479863baa0"
      },
      "execution_count": 14,
      "outputs": [
        {
          "output_type": "execute_result",
          "data": {
            "text/plain": [
              "[1, 2, 3, 4, 5]"
            ]
          },
          "metadata": {},
          "execution_count": 14
        }
      ]
    },
    {
      "cell_type": "code",
      "source": [
        "list_numbers[0] = 100  # Mengubah elemen pertama menjadi 100\n",
        "list_numbers[0]"
      ],
      "metadata": {
        "colab": {
          "base_uri": "https://localhost:8080/"
        },
        "id": "JVCQue-YOBs0",
        "outputId": "14bc80f7-7ce4-44c0-b46c-e108206afa7c"
      },
      "execution_count": 15,
      "outputs": [
        {
          "output_type": "execute_result",
          "data": {
            "text/plain": [
              "100"
            ]
          },
          "metadata": {},
          "execution_count": 15
        }
      ]
    },
    {
      "cell_type": "markdown",
      "source": [
        "**MENDEKLARASIKAN ARRAY**"
      ],
      "metadata": {
        "id": "vu07k-Tj_cp9"
      }
    },
    {
      "cell_type": "code",
      "source": [
        "arr = [1, 2, 3, 4, 5]\n",
        "arr"
      ],
      "metadata": {
        "id": "Z7JTYURvCO49",
        "colab": {
          "base_uri": "https://localhost:8080/"
        },
        "outputId": "c3e3dc7b-06bf-41fc-8da9-c050bcee5aab"
      },
      "execution_count": 16,
      "outputs": [
        {
          "output_type": "execute_result",
          "data": {
            "text/plain": [
              "[1, 2, 3, 4, 5]"
            ]
          },
          "metadata": {},
          "execution_count": 16
        }
      ]
    },
    {
      "cell_type": "code",
      "source": [
        "data = [1, 2, 3, 'hello', 5.5]  # array dengan elemen tipe berbeda\n",
        "data"
      ],
      "metadata": {
        "id": "OKBRVSaA_f6u",
        "colab": {
          "base_uri": "https://localhost:8080/"
        },
        "outputId": "4e241a05-abd9-47e7-928d-85460a2734d9"
      },
      "execution_count": 17,
      "outputs": [
        {
          "output_type": "execute_result",
          "data": {
            "text/plain": [
              "[1, 2, 3, 'hello', 5.5]"
            ]
          },
          "metadata": {},
          "execution_count": 17
        }
      ]
    },
    {
      "cell_type": "code",
      "source": [
        "arr = [0] * 5  # Membuat array dengan 5 elemen, semua berisi 0\n",
        "arr"
      ],
      "metadata": {
        "id": "2b5ZTBRJ_isp",
        "colab": {
          "base_uri": "https://localhost:8080/"
        },
        "outputId": "93305993-6585-4c87-9a10-231e8bf57604"
      },
      "execution_count": 18,
      "outputs": [
        {
          "output_type": "execute_result",
          "data": {
            "text/plain": [
              "[0, 0, 0, 0, 0]"
            ]
          },
          "metadata": {},
          "execution_count": 18
        }
      ]
    },
    {
      "cell_type": "code",
      "source": [
        "arr = [10, 20, 30, 40]\n",
        "print(arr[0])  # Output: 10 (indeks pertama)\n",
        "print(arr[3])  # Output: 40 (indeks terakhir)"
      ],
      "metadata": {
        "colab": {
          "base_uri": "https://localhost:8080/"
        },
        "id": "GHWtWUHi_knC",
        "outputId": "3e477e88-017d-4910-a23e-552308fa9b29"
      },
      "execution_count": 5,
      "outputs": [
        {
          "output_type": "stream",
          "name": "stdout",
          "text": [
            "10\n",
            "40\n"
          ]
        }
      ]
    },
    {
      "cell_type": "markdown",
      "source": [
        "**PEMROSESAN SEKUENSIAL ARRAY**"
      ],
      "metadata": {
        "id": "fQEuwUc3_mrE"
      }
    },
    {
      "cell_type": "code",
      "source": [
        "arr = [10, 20, 30, 40, 50]\n",
        "for elemen in arr:\n",
        "    print(elemen)\n"
      ],
      "metadata": {
        "colab": {
          "base_uri": "https://localhost:8080/"
        },
        "id": "7ZE8ZrrE_qmV",
        "outputId": "6d0da397-7c67-461f-b8c8-7662f0ea2766"
      },
      "execution_count": 1,
      "outputs": [
        {
          "output_type": "stream",
          "name": "stdout",
          "text": [
            "10\n",
            "20\n",
            "30\n",
            "40\n",
            "50\n"
          ]
        }
      ]
    },
    {
      "cell_type": "code",
      "source": [
        "total = 0\n",
        "for elemen in arr:\n",
        "    total += elemen\n",
        "print(total)  # Output: 150\n"
      ],
      "metadata": {
        "colab": {
          "base_uri": "https://localhost:8080/"
        },
        "id": "sWK3Hdb9_tzN",
        "outputId": "293b7916-7953-489c-93b8-37a8a1172900"
      },
      "execution_count": null,
      "outputs": [
        {
          "output_type": "stream",
          "name": "stdout",
          "text": [
            "150\n"
          ]
        }
      ]
    },
    {
      "cell_type": "code",
      "source": [
        "# P8\n",
        "# Membuat array dengan angka acak\n",
        "arr = [30, 45, 10, 20, 12,7, 19, 13, 17, 2, 10, 27, 5, 29]\n",
        "\n",
        "# 1. Nilai maksimum\n",
        "nilai_maks = max(arr)\n",
        "print(\"Nilai Maksimum:\", nilai_maks)\n",
        "\n",
        "# 2. Nilai minimum\n",
        "nilai_min = min(arr)\n",
        "print(\"Nilai Minimum:\", nilai_min)\n",
        "\n",
        "# 3. Hasil penjumlahan seluruh elemen\n",
        "hasil_penjumlahan = sum(arr)\n",
        "print(\"Hasil Penjumlahan:\", hasil_penjumlahan)\n",
        "\n",
        "# 4. Jumlah seluruh elemen\n",
        "jumlah_arr = len(arr)\n",
        "print(\"Jumlah Elemen:\", jumlah_arr)\n",
        "\n",
        "# 5. Rata-rata seluruh elemen\n",
        "rata_rata = hasil_penjumlahan / jumlah_arr\n",
        "print(\"Rata-rata:\", rata_rata)"
      ],
      "metadata": {
        "colab": {
          "base_uri": "https://localhost:8080/"
        },
        "id": "iS30fVXKPm3G",
        "outputId": "2205fb29-f193-47ad-ac50-a71f1df541e8"
      },
      "execution_count": 25,
      "outputs": [
        {
          "output_type": "stream",
          "name": "stdout",
          "text": [
            "Nilai Maksimum: 45\n",
            "Nilai Minimum: 2\n",
            "Hasil Penjumlahan: 246\n",
            "Jumlah Elemen: 14\n",
            "Rata-rata: 17.571428571428573\n"
          ]
        }
      ]
    },
    {
      "cell_type": "code",
      "source": [
        "# Soal 2 dengan bu Sevinurafni\n",
        "T1 = [9, 12, 30, -1, 0, 4, -1, 3, 30, 14]\n",
        "nilai_terbesarT1 = max(T1)\n",
        "print (\"nilai terbesar dari T1 adalah\", nilai_terbesarT1)\n",
        "\n",
        "nilai_terkecilT1 = min(T1)\n",
        "print (\"nilai terkecil dari T1 adalah\", nilai_terkecilT1)\n",
        "\n",
        "T2 = [1, 3, 5, 8, -12, 90, 3, 5]\n",
        "nilai_terbesarT2 = max(T2)\n",
        "print (\"nilai terbesar dari T2 adalah\", nilai_terbesarT2)\n",
        "\n",
        "nilai_terkecilT2 = min(T2)\n",
        "print (\"nilai terkecil dari T2 adalah\", nilai_terkecilT2)\n"
      ],
      "metadata": {
        "colab": {
          "base_uri": "https://localhost:8080/"
        },
        "id": "0snbpl9DV4Ub",
        "outputId": "4a349a65-ac11-4b09-d172-1ed08aeb4be7"
      },
      "execution_count": 3,
      "outputs": [
        {
          "output_type": "stream",
          "name": "stdout",
          "text": [
            "nilai terbesar dari T1 adalah 30\n",
            "nilai terkecil dari T1 adalah -1\n",
            "nilai terbesar dari T2 adalah 90\n",
            "nilai terkecil dari T2 adalah -12\n"
          ]
        }
      ]
    }
  ]
}