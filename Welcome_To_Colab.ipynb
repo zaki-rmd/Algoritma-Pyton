{
  "cells": [
    {
      "cell_type": "markdown",
      "metadata": {
        "id": "view-in-github",
        "colab_type": "text"
      },
      "source": [
        "<a href=\"https://colab.research.google.com/github/zaki-rmd/Algoritma-Pyton/blob/main/Welcome_To_Colab.ipynb\" target=\"_parent\"><img src=\"https://colab.research.google.com/assets/colab-badge.svg\" alt=\"Open In Colab\"/></a>"
      ]
    },
    {
      "cell_type": "code",
      "source": [
        "print(\"Hello World\")"
      ],
      "metadata": {
        "id": "Lknh6vWyw3Z4",
        "outputId": "a45fb447-1a14-4c63-a9dc-90c75c75bc2a",
        "colab": {
          "base_uri": "https://localhost:8080/"
        }
      },
      "execution_count": 1,
      "outputs": [
        {
          "output_type": "stream",
          "name": "stdout",
          "text": [
            "Hello World\n"
          ]
        }
      ]
    },
    {
      "cell_type": "code",
      "source": [
        "#proses memasukan data ke dalam variabel\n",
        "nama = \"John Doe\"\n",
        "#proses mencetak variabel\n",
        "print(nama)\n",
        "#nilai dan tipe data dalam variabel dapat diubah\n",
        "umur = 20 #nilai awal\n",
        "print(umur) #mencetak nilai umur\n",
        "type(umur) #mengecek tipe data umur\n",
        "umur = \"dua puluh satu\" #nilai setelah diubah\n",
        "print(umur) #mencetak nilai umur\n",
        "type(umur) #mengecek tipe data umur\n",
        "namaDepan = \"Budi\"\n",
        "namaBelakang = \"Susanto\"\n",
        "nama = namaDepan + \" \" + namaBelakang\n",
        "umur = 22\n",
        "hobi = \"Berenang\"\n",
        "print(\"Biodata\\n\", nama, \"\\n\", umur, \"\\n\", hobi)\n",
        "#contoh variabel lainya\n",
        "inivariabel = \"Halo\"\n",
        "ini_juga_variabel = \"Hai\"\n",
        "_inivariabeljuga = \"Hi\"\n",
        "inivariabel222 = \"Bye\"\n",
        "panjang = 10\n",
        "lebar = 5\n",
        "luas = panjang * lebar\n",
        "print(luas)"
      ],
      "metadata": {
        "id": "_wug3Z6TxEbT",
        "outputId": "2700493f-3691-4dc7-dfad-1c7e414956fc",
        "colab": {
          "base_uri": "https://localhost:8080/"
        }
      },
      "execution_count": 2,
      "outputs": [
        {
          "output_type": "stream",
          "name": "stdout",
          "text": [
            "John Doe\n",
            "20\n",
            "dua puluh satu\n",
            "Biodata\n",
            " Budi Susanto \n",
            " 22 \n",
            " Berenang\n",
            "50\n"
          ]
        }
      ]
    },
    {
      "cell_type": "code",
      "source": [
        "S = input(\"Masukkan kalimat: \") #(1)\n",
        "print(\"Anda memasuk kan kalimat: \" + S) #(2)\n",
        "N = int(input(\"Masukkan sebuah angka: \")) # (3)\n",
        "print(\"Jika angka Anda ditambah 5, hasilnya: \" + str(N + 5)) #(4)"
      ],
      "metadata": {
        "id": "MmoWEm7mxWAV",
        "outputId": "7bc55218-ae3e-4f40-d4b9-a189cae1943b",
        "colab": {
          "base_uri": "https://localhost:8080/"
        }
      },
      "execution_count": 3,
      "outputs": [
        {
          "output_type": "stream",
          "name": "stdout",
          "text": [
            "Masukkan kalimat: Algoritma\n",
            "Anda memasuk kan kalimat: Algoritma\n",
            "Masukkan sebuah angka: 7\n",
            "Jika angka Anda ditambah 5, hasilnya: 12\n"
          ]
        }
      ]
    },
    {
      "cell_type": "code",
      "source": [
        "#tipe data Boolean\n",
        "print(True)\n",
        "#tipe data String\n",
        "print(\"Ayo belajar Python\")\n",
        "print('Belajar Python Sangat Mudah')\n",
        "#tipe data Integer\n",
        "print(20)\n",
        "#tipe data Float\n",
        "print(3.14)\n",
        "#tipe data Hexadecimal\n",
        "print(0x9a) # Perbaikan: menambahkan awalan 0x\n",
        "#tipe data Complex\n",
        "print(5j)\n",
        "#tipe data List\n",
        "print([1,2,3,4,5])\n",
        "print([\"satu\", \"dua\", \"tiga\"])\n",
        "#tipe data Tuple\n",
        "print((1,2,3,4,5))\n",
        "print((\"satu\", \"dua\", \"tiga\"))\n",
        "#tipe data Dictionary\n",
        "print({\"nama\":\"Budi\", 'umur':20})\n",
        "#tipe data Dictionary dimasukan ke dalam variabel biodata\n",
        "biodata = {\"nama\":\"Andi\", 'umur':21} #proses inisialisasi variabel biodata\n",
        "print(biodata) #proses pencetakan variabel biodata yang berisi tipe data\n",
        "#Dictionary\n",
        "print(type(biodata)) #fungsi untuk mengecek jenis tipe data. akan tampil<class 'dict'> yang berarti dict adalah tipe data dictionary"
      ],
      "metadata": {
        "id": "nSDzCr_Jxpvo",
        "outputId": "e3dce765-6a8f-499e-ffaf-7d5b9cbcd935",
        "colab": {
          "base_uri": "https://localhost:8080/"
        }
      },
      "execution_count": 6,
      "outputs": [
        {
          "output_type": "stream",
          "name": "stdout",
          "text": [
            "True\n",
            "Ayo belajar Python\n",
            "Belajar Python Sangat Mudah\n",
            "20\n",
            "3.14\n",
            "154\n",
            "5j\n",
            "[1, 2, 3, 4, 5]\n",
            "['satu', 'dua', 'tiga']\n",
            "(1, 2, 3, 4, 5)\n",
            "('satu', 'dua', 'tiga')\n",
            "{'nama': 'Budi', 'umur': 20}\n",
            "{'nama': 'Andi', 'umur': 21}\n",
            "<class 'dict'>\n"
          ]
        }
      ]
    },
    {
      "cell_type": "code",
      "source": [
        "#Konversi Integer ke Float\n",
        "x = float(5)\n",
        "print(x)\n",
        "#Konversi Float ke Integer\n",
        "x = int(5.6)\n",
        "print(x)\n",
        "#Konversi nilai ke String\n",
        "x = str(9)\n",
        "print(x)\n",
        "#Konversi kumpulan data ke Set, Tuple, dan List\n",
        "x = set([1, 2, 3])\n",
        "y = tuple({5, 6, 7})\n",
        "z = list((\"hello\"))\n",
        "print(x)\n",
        "print(y)\n",
        "print(z)"
      ],
      "metadata": {
        "id": "9e1QHDoZx8Sl",
        "outputId": "c234c240-0f33-4d72-f7be-443886bfee87",
        "colab": {
          "base_uri": "https://localhost:8080/"
        }
      },
      "execution_count": 7,
      "outputs": [
        {
          "output_type": "stream",
          "name": "stdout",
          "text": [
            "5.0\n",
            "5\n",
            "9\n",
            "{1, 2, 3}\n",
            "(5, 6, 7)\n",
            "['h', 'e', 'l', 'l', 'o']\n"
          ]
        }
      ]
    },
    {
      "cell_type": "code",
      "source": [
        "x = 8\n",
        "y = 2\n",
        "result = x + y\n",
        "print(result)"
      ],
      "metadata": {
        "id": "F_my4gjTyKKp",
        "outputId": "8a930175-2a27-4595-aa89-d3eb7bc0e4ac",
        "colab": {
          "base_uri": "https://localhost:8080/"
        }
      },
      "execution_count": 8,
      "outputs": [
        {
          "output_type": "stream",
          "name": "stdout",
          "text": [
            "10\n"
          ]
        }
      ]
    },
    {
      "cell_type": "code",
      "source": [
        "# Penjumlahan\n",
        "print(13 + 2)\n",
        "apel = 7\n",
        "jeruk = 9\n",
        "buah = apel + jeruk # Menjumlahkan jumlah apel dan jeruk\n",
        "print(f\"Jumlah buah: {buah}\")\n",
        "# Pengurangan\n",
        "hutang = 10000\n",
        "bayar = 5000\n",
        "sisa_hutang = hutang - bayar # Menghitung sisa hutang\n",
        "print(f\"Sisa hutang Anda adalah {sisa_hutang}\")\n",
        "# Perkalian\n",
        "panjang = 15\n",
        "lebar = 8\n",
        "luas = panjang * lebar # Menghitung luas persegi panjang\n",
        "print(f\"Luas persegi panjang: {luas}\")\n",
        "# Pembagian\n",
        "kue = 16\n",
        "anak = 4\n",
        "kue_per_anak = kue / anak # Menghitung bagian kue per anak\n",
        "print(f\"Setiap anak akan mendapatkan bagian kue sebanyak {kue_per_anak}\")\n",
        "# Sisa Bagi / Modulus\n",
        "bilangan1 = 14\n",
        "bilangan2 = 5\n",
        "hasil = bilangan1 % bilangan2 # Menghitung sisa bagi\n",
        "print(f\"Sisa bagi dari bilangan {bilangan1} dan {bilangan2} adalah {hasil}\")\n",
        "# Pangkat\n",
        "bilangan3 = 8\n",
        "bilangan4 = 2\n",
        "hasil_pangkat = bilangan3 ** bilangan4 # Menghitung hasil pangkat\n",
        "print(f\"Hasil pangkat: {hasil_pangkat}\")\n",
        "# Pembagian Bulat\n",
        "print(10 // 3)\n",
        "# 10 dibagi 3 adalah 3.3333. Karena dibulatkan maka akan menghasilkan nilai 3"
      ],
      "metadata": {
        "id": "_QW6au2_yPOI",
        "outputId": "d3b038dd-d8d7-4a7b-cbc4-9fa5677f0fac",
        "colab": {
          "base_uri": "https://localhost:8080/"
        }
      },
      "execution_count": 9,
      "outputs": [
        {
          "output_type": "stream",
          "name": "stdout",
          "text": [
            "15\n",
            "Jumlah buah: 16\n",
            "Sisa hutang Anda adalah 5000\n",
            "Luas persegi panjang: 120\n",
            "Setiap anak akan mendapatkan bagian kue sebanyak 4.0\n",
            "Sisa bagi dari bilangan 14 dan 5 adalah 4\n",
            "Hasil pangkat: 64\n",
            "3\n"
          ]
        }
      ]
    },
    {
      "cell_type": "code",
      "source": [
        "# SAMA DENGAN\n",
        "print(1 == 1) # Hasilnya akan bernilai True karena satu sama dengan satu\n",
        "print(1 == 2) # Hasilnya akan bernilai False karena satu tidak sama dengan dua\n",
        "# TIDAK SAMA DENGAN\n",
        "print(2 != 2) # Hasilnya akan bernilai False karena dua seharusnya sama dengan dua\n",
        "print(2 != 3) # Hasilnya akan bernilai True karena dua tidak sama dengan tiga\n",
        "\n",
        "# LEBIH BESAR DARI\n",
        "print(5 > 3) # Hasilnya akan bernilai True karena lima lebih besar dari tiga\n",
        "# LEBIH KECIL DARI\n",
        "print(5 < 3) # Hasilnya akan bernilai False karena lima tidak lebih besar dari tiga\n",
        "# LEBIH BESAR DARI SAMA DENGAN\n",
        "print(5 >= 3) # Hasilnya akan bernilai True karena lima lebih besar dari sama dengan tiga\n",
        "# LEBIH KECIL DARI SAMA DENGAN\n",
        "print(5 <= 3) # Hasilnya akan bernilai False karena lima tidak lebih besar dari sama dengan tiga"
      ],
      "metadata": {
        "id": "rRvUj56_yY_I",
        "outputId": "d618b223-4a0c-45d2-c45a-13aba12acc05",
        "colab": {
          "base_uri": "https://localhost:8080/"
        }
      },
      "execution_count": 10,
      "outputs": [
        {
          "output_type": "stream",
          "name": "stdout",
          "text": [
            "True\n",
            "False\n",
            "False\n",
            "True\n",
            "True\n",
            "False\n",
            "True\n",
            "False\n"
          ]
        }
      ]
    },
    {
      "cell_type": "code",
      "source": [
        "#Soal 1\n",
        "s = float(input(\"masukan panjang sisi persegi : \"))\n",
        "luasPersegi = s*s\n",
        "print(\"jadi luas persegi adalah\", luasPersegi)"
      ],
      "metadata": {
        "id": "PuLaRc1508_m",
        "outputId": "29c653f9-0280-4957-c453-a32e4c129025",
        "colab": {
          "base_uri": "https://localhost:8080/"
        }
      },
      "execution_count": 20,
      "outputs": [
        {
          "output_type": "stream",
          "name": "stdout",
          "text": [
            "masukan panjang sisi persegi : 2.5\n",
            "jadi luas persegi adalah 6.25\n"
          ]
        }
      ]
    },
    {
      "cell_type": "code",
      "source": [
        "#Soal 2\n",
        "nama = str (input (\"masukkan nama : \"))\n",
        "nim = str (input(\"masukkan nim : \"))\n",
        "fakultas = str (input(\"masukkan fakultas : \"))\n",
        "jurusan = str (input(\"masukkan jurusan : \"))\n",
        "KotaAsal = str (input(\"masukkan Kota Asal : \"))\n",
        "Alamat = str (input(\"masukkan Alamat : \"))\n",
        "print(nama)\n",
        "print(nim)\n",
        "print(fakultas)\n",
        "print(jurusan)\n",
        "print(KotaAsal)\n",
        "print(Alamat)"
      ],
      "metadata": {
        "id": "LRd2IqsX1RgA",
        "outputId": "d6e0817a-92ae-404c-9c85-97141471657e",
        "colab": {
          "base_uri": "https://localhost:8080/"
        }
      },
      "execution_count": 14,
      "outputs": [
        {
          "output_type": "stream",
          "name": "stdout",
          "text": [
            "masukkan nama : Zaki Ramadan\n",
            "masukkan nim : 2C1240059\n",
            "masukkan fakultas : Sain dan Teknologi\n",
            "masukkan jurusan : Agribisnis\n",
            "masukkan Kota Asal : Sumatera Barat, Kab. Pasaman Barat\n",
            "masukkan Alamat : Jatinangor\n",
            "Zaki Ramadan\n",
            "2C1240059\n",
            "Sain dan Teknologi\n",
            "Agribisnis\n",
            "Sumatera Barat, Kab. Pasaman Barat\n",
            "Jatinangor\n"
          ]
        }
      ]
    }
  ],
  "metadata": {
    "colab": {
      "name": "Welcome To Colab",
      "provenance": [],
      "include_colab_link": true
    },
    "kernelspec": {
      "display_name": "Python 3",
      "name": "python3"
    }
  },
  "nbformat": 4,
  "nbformat_minor": 0
}